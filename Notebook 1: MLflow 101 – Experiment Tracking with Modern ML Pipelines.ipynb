{
 "cells": [
  {
   "cell_type": "markdown",
   "metadata": {},
   "source": "# MLflow 101: Experiment Tracking with Modern ML Pipelines\n\nWelcome to the first notebook in our MLflow series! This notebook is designed to introduce you to the basics of MLflow, focusing on experiment tracking with a modern machine learning pipeline. We will keep things simple and clear to make sure you get comfortable with MLflow. More exciting and advanced topics will be covered in the upcoming notebooks.\n\n---\n\n## Table of Contents\n1. Introduction to MLflow\n2. Setting up MLflow Tracking\n3. Loading and Preparing the Dataset\n4. Building a Modern ML Pipeline\n5. Tracking Experiments with MLflow\n6. Comparing Experiment Runs\n7. Conclusion and Resources\n\n---"
  },
  {
   "cell_type": "markdown",
   "metadata": {},
   "source": "## 1. Introduction to MLflow\n\nMLflow is an open-source platform to manage the ML lifecycle, including experimentation, reproducibility, deployment, and a central model registry. In this notebook, we focus on the experiment tracking component, which helps you log and compare your machine learning experiments efficiently.\n\n![MLflow Logo](https://mlflow.org/docs/latest/_static/mlflow-logo.png)\n\nKey features of MLflow experiment tracking:\n- Log parameters, metrics, and artifacts\n- Visualize and compare runs\n- Organize experiments and runs\n\nLet's get started!"
  },
  {
   "cell_type": "markdown",
   "metadata": {},
   "source": "## 2. Setting up MLflow Tracking\n\nFirst, we need to install MLflow and set up a tracking server. For simplicity, we'll use the local file system as the backend store.\n\n``````\n\nLet's import the necessary libraries and configure MLflow tracking URI."
  },
  {
   "cell_type": "code",
   "metadata": {},
   "source": "# Install MLflow and other dependencies\n!pip install mlflow scikit-learn pandas matplotlib\n\n# Import libraries\nimport mlflow\nimport mlflow.sklearn\nfrom sklearn.datasets import fetch_openml\nfrom sklearn.model_selection import train_test_split\nfrom sklearn.ensemble import HistGradientBoostingClassifier\nfrom sklearn.metrics import accuracy_score\nimport pandas as pd\nimport matplotlib.pyplot as plt\n\n# Set MLflow tracking URI to local\nmlflow.set_tracking_uri('file:./mlruns')\n\nprint('MLflow tracking URI set to:', mlflow.get_tracking_uri())",
   "execution_count": null,
   "outputs": []
  },
  {
   "cell_type": "markdown",
   "metadata": {},
   "source": "## 3. Loading and Preparing the Dataset\n\nWe will use the Meta Open Materials 2024 (OMat24) dataset from Hugging Face, which is a rich scientific dataset suitable for regression and classification tasks. For simplicity, here we simulate loading a tabular dataset from OpenML (as a placeholder for OMat24) to keep the notebook runnable without external API calls.\n\nWe will prepare the data for a classification task.\n\n![Tabular Data Example](https://upload.wikimedia.org/wikipedia/commons/6/69/Tabular_data.png)"
  },
  {
   "cell_type": "code",
   "metadata": {},
   "source": "# Load dataset from OpenML (placeholder for OMat24)\ndata = fetch_openml(name='adult', version=2, as_frame=True)\ndf = data.frame\n\n# Basic preprocessing\nX = df.drop('class', axis=1)\ny = df['class']\n\n# Convert categorical columns to numeric\nX = pd.get_dummies(X)\n\n# Split data\nX_train, X_test, y_train, y_test = train_test_split(X, y, test_size=0.2, random_state=42)\n\nprint('Training samples:', X_train.shape)\nprint('Test samples:', X_test.shape)",
   "execution_count": null,
   "outputs": []
  },
  {
   "cell_type": "markdown",
   "metadata": {},
   "source": "## 4. Building a Modern ML Pipeline\n\nWe will use the **HistGradientBoostingClassifier**, a modern and powerful gradient boosting model available in scikit-learn, which is suitable for tabular data and faster than older models.\n\nLet's train the model and evaluate its accuracy.\n\n![Gradient Boosting Illustration](https://scikit-learn.org/stable/_images/sphx_glr_plot_gradient_boosting_regularization_001.png)"
  },
  {
   "cell_type": "code",
   "metadata": {},
   "source": "# Train HistGradientBoostingClassifier\nmodel = HistGradientBoostingClassifier(random_state=42)\nmodel.fit(X_train, y_train)\n\n# Predict and evaluate\npreds = model.predict(X_test)\nacc = accuracy_score(y_test, preds)\nprint(f'Accuracy: {acc:.4f}')",
   "execution_count": null,
   "outputs": []
  },
  {
   "cell_type": "markdown",
   "metadata": {},
   "source": "## 5. Tracking Experiments with MLflow\n\nNow, let's track our experiment using MLflow. We will log parameters, metrics, and the trained model.\n"
  },
  {
   "cell_type": "code",
   "metadata": {},
   "source": "with mlflow.start_run():\n    # Log model parameters\n    mlflow.log_param('model_type', 'HistGradientBoostingClassifier')\n    mlflow.log_param('random_state', 42)\n    \n    # Log accuracy metric\n    mlflow.log_metric('accuracy', acc)\n    \n    # Log the model\n    mlflow.sklearn.log_model(model, 'model')\n\nprint('Experiment logged with MLflow!')",
   "execution_count": null,
   "outputs": []
  },
  {
   "cell_type": "markdown",
   "metadata": {},
   "source": "## 6. Comparing Experiment Runs\n\nMLflow UI allows you to compare different runs visually. You can start the MLflow UI locally by running:\n\n``````\n\nThen open your browser at http://localhost:5000 to explore your experiments.\n\nLet's visualize the accuracy metric from this run.\n\n![MLflow UI Screenshot](https://mlflow.org/docs/latest/_images/mlflow-ui.png)"
  },
  {
   "cell_type": "code",
   "metadata": {},
   "source": "# Visualize accuracy metric\nplt.bar(['HistGradientBoostingClassifier'], [acc])\nplt.ylabel('Accuracy')\nplt.title('Model Accuracy')\nplt.show()",
   "execution_count": null,
   "outputs": []
  },
  {
   "cell_type": "markdown",
   "metadata": {},
   "source": "## 7. Conclusion and Resources\n\nIn this notebook, you learned the basics of MLflow experiment tracking with a modern ML pipeline using a powerful gradient boosting model. This foundation will help you as we dive into more advanced topics in the upcoming notebooks.\n\n### Resources\n- [MLflow Documentation](https://mlflow.org/docs/latest/index.html)\n- [MLflow GitHub](https://github.com/mlflow/mlflow)\n- [Scikit-learn HistGradientBoostingClassifier](https://scikit-learn.org/stable/modules/generated/sklearn.ensemble.HistGradientBoostingClassifier.html)\n- [Hugging Face Datasets](https://huggingface.co/datasets)\n\nHappy experimenting! 🚀"
  }
 ],
 "metadata": {
  "kernelspec": {
   "display_name": "Python 3",
   "language": "python",
   "name": "python3"
  },
  "language_info": {
   "name": "python",
   "version": "3.9"
  }
 },
 "nbformat": 4,
 "nbformat_minor": 5
}
